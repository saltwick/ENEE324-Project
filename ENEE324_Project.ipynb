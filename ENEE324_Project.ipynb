{
  "nbformat": 4,
  "nbformat_minor": 0,
  "metadata": {
    "colab": {
      "name": "ENEE324 Project",
      "version": "0.3.2",
      "provenance": [],
      "include_colab_link": true
    },
    "kernelspec": {
      "name": "python3",
      "display_name": "Python 3"
    }
  },
  "cells": [
    {
      "cell_type": "markdown",
      "metadata": {
        "id": "view-in-github",
        "colab_type": "text"
      },
      "source": [
        "<a href=\"https://colab.research.google.com/github/ssaltwick/ENEE324-Project/blob/master/ENEE324_Project.ipynb\" target=\"_parent\"><img src=\"https://colab.research.google.com/assets/colab-badge.svg\" alt=\"Open In Colab\"/></a>"
      ]
    },
    {
      "metadata": {
        "id": "G3SiNnHMZTLB",
        "colab_type": "text"
      },
      "cell_type": "markdown",
      "source": [
        "\n",
        "This program uses data from the 2014-2018 NBA seasons to classify players by \n",
        "position.\n",
        "\n",
        "\n",
        "Previous year's game statistics are used to generate a likelihood function\n",
        "for each position. Then a certain player can be tested against each of these \n",
        "functions to guess their position.\n"
      ]
    },
    {
      "metadata": {
        "id": "DiZoa_hUOrT0",
        "colab_type": "code",
        "colab": {}
      },
      "cell_type": "code",
      "source": [
        "import matplotlib.pyplot as plt\n",
        "import numpy as np\n",
        "import scipy.stats as stats\n",
        "import math\n",
        "import pandas as pd\n",
        "from enum import Enum\n",
        "\n",
        "\n",
        "\n"
      ],
      "execution_count": 0,
      "outputs": []
    },
    {
      "metadata": {
        "id": "51h41PKoHmzw",
        "colab_type": "code",
        "colab": {}
      },
      "cell_type": "code",
      "source": [
        "\n",
        "# Defines an enumeration for player positions\n",
        "\n",
        "class Position(Enum):\n",
        "  PG = 0\n",
        "  SG = 1\n",
        "  SF = 2\n",
        "  PF = 3\n",
        "  C = 4\n",
        "  \n",
        "\n",
        "# Defines an array of priors (each position's percentage of players)\n",
        "# TODO: Update with actual priors\n",
        "prior = {\n",
        "    Position.PG : 0.2,\n",
        "    Position.SG : 0.2,\n",
        "    Position.SF : 0.2,\n",
        "    Position.PF : 0.2,\n",
        "    Position.C : 0.2 \n",
        "}\n",
        "\n",
        "\n",
        "\n",
        "\n",
        "\n"
      ],
      "execution_count": 0,
      "outputs": []
    },
    {
      "metadata": {
        "id": "VncRTV95RtMJ",
        "colab_type": "code",
        "colab": {}
      },
      "cell_type": "code",
      "source": [
        "# Load Data\n",
        "pg_url = 'https://raw.githubusercontent.com/ssaltwick/ENEE324-Project/master/data/Data%20-%20PG-clean.csv'\n",
        "sg_url = 'https://raw.githubusercontent.com/ssaltwick/ENEE324-Project/master/data/Data%20-%20SG-clean.csv'\n",
        "sf_url = 'https://raw.githubusercontent.com/ssaltwick/ENEE324-Project/master/data/Data%20-%20SF-clean.csv'\n",
        "pf_url = 'https://raw.githubusercontent.com/ssaltwick/ENEE324-Project/master/data/Data%20-%20PF-clean.csv'\n",
        "c_url = 'https://raw.githubusercontent.com/ssaltwick/ENEE324-Project/master/data/Data%20-%20C-Clean.csv'\n",
        "\n",
        "data = {\n",
        "    Position.PG : pd.read_csv(pg_url).dropna(),\n",
        "    Position.SG : pd.read_csv(sg_url).dropna(),\n",
        "    Position.SF : pd.read_csv(sf_url).dropna(),\n",
        "    Position.PF : pd.read_csv(pf_url).dropna(),\n",
        "    Position.C : pd.read_csv(c_url)\n",
        "}\n",
        "\n"
      ],
      "execution_count": 0,
      "outputs": []
    },
    {
      "metadata": {
        "id": "abRojhXGTPi8",
        "colab_type": "code",
        "colab": {}
      },
      "cell_type": "code",
      "source": [
        ""
      ],
      "execution_count": 0,
      "outputs": []
    },
    {
      "metadata": {
        "id": "19FG6XJ4Jmqq",
        "colab_type": "code",
        "colab": {}
      },
      "cell_type": "code",
      "source": [
        "# TODO: Generate actual MEAN and COV for each position\n",
        "\n",
        "avgs = {\n",
        "    Position.PG : data[Position.PG].mean(0).to_numpy(),\n",
        "    Position.SG : data[Position.SG].mean(0).to_numpy(),\n",
        "    Position.SF : data[Position.SF].mean(0).to_numpy(),\n",
        "    Position.PF : data[Position.PF].mean(0).to_numpy(),\n",
        "    Position.C : data[Position.C].mean(0).to_numpy()\n",
        "}\n",
        "\n",
        "covs = {\n",
        "    Position.PG : data[Position.PG].cov().to_numpy(),\n",
        "    Position.SG : data[Position.SG].cov().to_numpy(),\n",
        "    Position.SF : data[Position.SF].cov().to_numpy(),\n",
        "    Position.PF : data[Position.PF].cov().to_numpy(),\n",
        "    Position.C : data[Position.C].cov().to_numpy()\n",
        "}\n",
        "\n",
        "\n"
      ],
      "execution_count": 0,
      "outputs": []
    },
    {
      "metadata": {
        "id": "Dk8qTLauO201",
        "colab_type": "code",
        "cellView": "code",
        "colab": {}
      },
      "cell_type": "code",
      "source": [
        "\"\"\"\n",
        "  Evaluates a player against a position's likelihood.\n",
        "  params: positon = Position Enum\n",
        "          player = numpy array of stats\n",
        "\n",
        "\"\"\"\n",
        "def evaluate_likelihood(position, player):\n",
        "  mu = avgs[position]\n",
        "  sig = covs[position]\n",
        "  \n",
        "  p = (math.sqrt(2*math.pi)) ** 3\n",
        "  c = 1 / (p * np.linalg.det(sig))\n",
        "  \n",
        "  t = np.matmul(np.matmul(sig, (player - mu)), np.transpose(player - mu))\n",
        "  \n",
        "  return c * math.exp(-0.5 * t)"
      ],
      "execution_count": 0,
      "outputs": []
    },
    {
      "metadata": {
        "id": "AR8WjRv8MES6",
        "colab_type": "code",
        "colab": {}
      },
      "cell_type": "code",
      "source": [
        "def guess_position(player):\n",
        "  positions = {}\n",
        "  positions[Position.PG] = evaluate_likelihood(Position.PG, player)\n",
        "  positions[Position.SG] = evaluate_likelihood(Position.SG, player)\n",
        "  positions[Position.SF] = evaluate_likelihood(Position.SF, player)\n",
        "  positions[Position.PF] = evaluate_likelihood(Position.PF, player)\n",
        "  positions[Position.C] = evaluate_likelihood(Position.C, player)\n",
        "  \n",
        "  v = list(positions.values())\n",
        "  k = list(positions.keys())\n",
        "  \n",
        "  return k[v.index(max(v))]"
      ],
      "execution_count": 0,
      "outputs": []
    },
    {
      "metadata": {
        "id": "otgzSj8iG4HS",
        "colab_type": "code",
        "colab": {
          "base_uri": "https://localhost:8080/",
          "height": 34
        },
        "outputId": "31127737-dcf4-4102-ea17-bfa896bbe562"
      },
      "cell_type": "code",
      "source": [
        "\n",
        "test_player = np.array([0.535,0.36,0.604,0.821,6.7,4.2,0.9,1.3,13.6])\n",
        "print(guess_position(test_player))"
      ],
      "execution_count": 111,
      "outputs": [
        {
          "output_type": "stream",
          "text": [
            "Position.PG\n"
          ],
          "name": "stdout"
        }
      ]
    }
  ]
}
