{
  "nbformat": 4,
  "nbformat_minor": 0,
  "metadata": {
    "colab": {
      "name": "ENEE324 Project",
      "version": "0.3.2",
      "provenance": []
    },
    "kernelspec": {
      "name": "python3",
      "display_name": "Python 3"
    }
  },
  "cells": [
    {
      "metadata": {
        "id": "G3SiNnHMZTLB",
        "colab_type": "text"
      },
      "cell_type": "markdown",
      "source": [
        "\n",
        "This program uses data from the 2014-2018 NBA seasons to classify players by \n",
        "position.\n",
        "\n",
        "\n",
        "Previous year's game statistics are used to generate a likelihood function\n",
        "for each position. Then a certain player can be tested against each of these \n",
        "functions to guess their position.\n"
      ]
    },
    {
      "metadata": {
        "id": "DiZoa_hUOrT0",
        "colab_type": "code",
        "colab": {}
      },
      "cell_type": "code",
      "source": [
        "import matplotlib.pyplot as plt\n",
        "import numpy as np\n",
        "import scipy.stats as stats\n",
        "import math\n",
        "import pandas as pd\n",
        "from enum import Enum\n",
        "\n",
        "\n",
        "\n"
      ],
      "execution_count": 0,
      "outputs": []
    },
    {
      "metadata": {
        "id": "51h41PKoHmzw",
        "colab_type": "code",
        "colab": {
          "base_uri": "https://localhost:8080/",
          "height": 34
        },
        "outputId": "8831e9c5-9126-453d-db52-b6ed8393e178"
      },
      "cell_type": "code",
      "source": [
        "\n",
        "# Defines an enumeration for player positions\n",
        "\n",
        "class Position(Enum):\n",
        "  PG = 0\n",
        "  SG = 1\n",
        "  SF = 2\n",
        "  PF = 3\n",
        "  C = 4\n",
        "  \n",
        "\n",
        "# Defines an array of priors (each position's percentage of players)\n",
        "# TODO: Update with actual priors\n",
        "prior = {\n",
        "    Position.PG : 0.2,\n",
        "    Position.SG : 0.2,\n",
        "    Position.SF : 0.2,\n",
        "    Position.PF : 0.2,\n",
        "    Position.C : 0.2 \n",
        "}\n",
        "\n",
        "\n",
        "\n",
        "\n",
        "\n"
      ],
      "execution_count": 43,
      "outputs": [
        {
          "output_type": "stream",
          "text": [
            "0.2\n"
          ],
          "name": "stdout"
        }
      ]
    },
    {
      "metadata": {
        "id": "VncRTV95RtMJ",
        "colab_type": "code",
        "colab": {}
      },
      "cell_type": "code",
      "source": [
        "# Load Data\n",
        "pg_url = 'https://raw.githubusercontent.com/ssaltwick/ENEE324-Project/master/data/Data%20-%20PG-clean.csv'\n",
        "sg_url = 'https://raw.githubusercontent.com/ssaltwick/ENEE324-Project/master/data/Data%20-%20SG-clean.csv'\n",
        "sf_url = 'https://raw.githubusercontent.com/ssaltwick/ENEE324-Project/master/data/Data%20-%20SF-clean.csv'\n",
        "pf_url = 'https://raw.githubusercontent.com/ssaltwick/ENEE324-Project/master/data/Data%20-%20PF-clean.csv'\n",
        "c_url = 'https://raw.githubusercontent.com/ssaltwick/ENEE324-Project/master/data/Data%20-%20C-Clean.csv'\n",
        "\n",
        "data = {\n",
        "    Position.PG : pd.read_csv(pg_url).dropna(),\n",
        "    Position.SG : pd.read_csv(sg_url).dropna(),\n",
        "    Position.SF : pd.read_csv(sf_url).dropna(),\n",
        "    Position.PF : pd.read_csv(pf_url).dropna(),\n",
        "    Position.C : pd.read_csv(c_url)\n",
        "}\n",
        "\n"
      ],
      "execution_count": 0,
      "outputs": []
    },
    {
      "metadata": {
        "id": "abRojhXGTPi8",
        "colab_type": "code",
        "colab": {
          "base_uri": "https://localhost:8080/",
          "height": 476
        },
        "outputId": "89f62d99-9dbe-46d4-b574-79426241d1e6"
      },
      "cell_type": "code",
      "source": [
        "print(data[Position.PG].cov().to_numpy())"
      ],
      "execution_count": 97,
      "outputs": [
        {
          "output_type": "stream",
          "text": [
            "[[ 1.75073626e-03  4.81033599e-04  1.66886546e-03  2.87231200e-04\n",
            "   1.73308002e-02  2.54672282e-02  4.59583535e-03  1.43943733e-03\n",
            "   9.99439018e-02]\n",
            " [ 4.81033599e-04  4.04041308e-03  3.13009904e-04  1.42918250e-03\n",
            "   1.10962412e-03  1.55239110e-02  3.16118644e-03 -1.70261617e-03\n",
            "   1.05981856e-01]\n",
            " [ 1.66886546e-03  3.13009904e-04  2.04514074e-03  5.32769019e-04\n",
            "   1.77840171e-02  2.45859875e-02  5.30402168e-03  1.27251124e-03\n",
            "   1.08489417e-01]\n",
            " [ 2.87231200e-04  1.42918250e-03  5.32769019e-04  7.24596799e-03\n",
            "  -1.25327441e-02 -1.89325032e-03 -1.34275222e-03 -3.00231984e-03\n",
            "   1.32637654e-01]\n",
            " [ 1.73308002e-02  1.10962412e-03  1.77840171e-02 -1.25327441e-02\n",
            "   2.08680549e+00  2.29368800e+00  4.64986049e-01  1.53791306e-01\n",
            "   6.33007068e+00]\n",
            " [ 2.54672282e-02  1.55239110e-02  2.45859875e-02 -1.89325032e-03\n",
            "   2.29368800e+00  4.55876675e+00  6.99442062e-01  1.52234290e-01\n",
            "   9.59772651e+00]\n",
            " [ 4.59583535e-03  3.16118644e-03  5.30402168e-03 -1.34275222e-03\n",
            "   4.64986049e-01  6.99442062e-01  1.98427764e-01  4.25379915e-02\n",
            "   1.75215358e+00]\n",
            " [ 1.43943733e-03 -1.70261617e-03  1.27251124e-03 -3.00231984e-03\n",
            "   1.53791306e-01  1.52234290e-01  4.25379915e-02  3.45020178e-02\n",
            "   4.90762020e-01]\n",
            " [ 9.99439018e-02  1.05981856e-01  1.08489417e-01  1.32637654e-01\n",
            "   6.33007068e+00  9.59772651e+00  1.75215358e+00  4.90762020e-01\n",
            "   3.72492443e+01]]\n"
          ],
          "name": "stdout"
        }
      ]
    },
    {
      "metadata": {
        "id": "19FG6XJ4Jmqq",
        "colab_type": "code",
        "colab": {}
      },
      "cell_type": "code",
      "source": [
        "# TODO: Generate actual MEAN and COV for each position\n",
        "\n",
        "avgs = {\n",
        "    Position.PG : data[Position.PG].mean(0).to_numpy(),\n",
        "    Position.SG : data[Position.SG].mean(0).to_numpy(),\n",
        "    Position.SF : data[Position.SF].mean(0).to_numpy(),\n",
        "    Position.PF : data[Position.PF].mean(0).to_numpy(),\n",
        "    Position.C : data[Position.C].mean(0).to_numpy()\n",
        "}\n",
        "\n",
        "covs = {\n",
        "    Position.PG : data[Position.PG].cov().to_numpy(),\n",
        "    Position.SG : data[Position.SG].cov().to_numpy(),\n",
        "    Position.SF : data[Position.SF].cov().to_numpy(),\n",
        "    Position.PF : data[Position.PF].cov().to_numpy(),\n",
        "    Position.C : data[Position.C].cov().to_numpy()\n",
        "}\n",
        "\n",
        "\n"
      ],
      "execution_count": 0,
      "outputs": []
    },
    {
      "metadata": {
        "id": "Dk8qTLauO201",
        "colab_type": "code",
        "cellView": "code",
        "colab": {}
      },
      "cell_type": "code",
      "source": [
        "\"\"\"\n",
        "  Evaluates a player against a position's likelihood.\n",
        "  params: positon = Position Enum\n",
        "          player = numpy array of stats\n",
        "\n",
        "\"\"\"\n",
        "def evaluate_likelihood(position, player):\n",
        "  mu = avgs[position]\n",
        "  sig = covs[position]\n",
        "  \n",
        "  p = (math.sqrt(2*math.pi)) ** 3\n",
        "  c = 1 / (p * np.linalg.det(sig))\n",
        "  \n",
        "  t = np.matmul(np.matmul(sig, (player - mu)), np.transpose(player - mu))\n",
        "  \n",
        "  return c * math.exp(-0.5 * t)"
      ],
      "execution_count": 0,
      "outputs": []
    },
    {
      "metadata": {
        "id": "AR8WjRv8MES6",
        "colab_type": "code",
        "colab": {}
      },
      "cell_type": "code",
      "source": [
        "def guess_position(player):\n",
        "  positions = {}\n",
        "  positions[Position.PG] = evaluate_likelihood(Position.PG, player)\n",
        "  positions[Position.SG] = evaluate_likelihood(Position.SG, player)\n",
        "  positions[Position.SF] = evaluate_likelihood(Position.SF, player)\n",
        "  positions[Position.PF] = evaluate_likelihood(Position.PF, player)\n",
        "  positions[Position.C] = evaluate_likelihood(Position.C, player)\n",
        "  \n",
        "  v = list(positions.values())\n",
        "  k = list(positions.keys())\n",
        "  \n",
        "  return k[v.index(max(v))]"
      ],
      "execution_count": 0,
      "outputs": []
    },
    {
      "metadata": {
        "id": "otgzSj8iG4HS",
        "colab_type": "code",
        "colab": {
          "base_uri": "https://localhost:8080/",
          "height": 34
        },
        "outputId": "29645103-d0c8-4cb9-9a2d-0036997dc8b2"
      },
      "cell_type": "code",
      "source": [
        "\n",
        "test_player = np.array([0.535,0.36,0.604,0.821,6.7,4.2,0.9,1.3,13.6])\n",
        "print(guess_position(test_player))"
      ],
      "execution_count": 103,
      "outputs": [
        {
          "output_type": "stream",
          "text": [
            "Position.PG\n"
          ],
          "name": "stdout"
        }
      ]
    },
    {
      "metadata": {
        "id": "l3j8JxoSXxKk",
        "colab_type": "code",
        "colab": {
          "base_uri": "https://localhost:8080/",
          "height": 34
        },
        "outputId": "bdfad7dd-8f8b-4ae3-d34b-c1f6cf1b77be"
      },
      "cell_type": "code",
      "source": [
        "print(data[Position.C].columns.values)"
      ],
      "execution_count": 100,
      "outputs": [
        {
          "output_type": "stream",
          "text": [
            "['FG%' '3P%' '2P%' 'FT%' 'TRB' 'AST' 'STL' 'BLK' 'PTS']\n"
          ],
          "name": "stdout"
        }
      ]
    }
  ]
}