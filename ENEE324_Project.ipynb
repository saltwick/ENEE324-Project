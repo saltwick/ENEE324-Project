{
  "nbformat": 4,
  "nbformat_minor": 0,
  "metadata": {
    "colab": {
      "name": "ENEE324 Project",
      "version": "0.3.2",
      "provenance": [],
      "include_colab_link": true
    },
    "kernelspec": {
      "name": "python3",
      "display_name": "Python 3"
    }
  },
  "cells": [
    {
      "cell_type": "markdown",
      "metadata": {
        "id": "view-in-github",
        "colab_type": "text"
      },
      "source": [
        "<a href=\"https://colab.research.google.com/github/ssaltwick/ENEE324-Project/blob/master/ENEE324_Project.ipynb\" target=\"_parent\"><img src=\"https://colab.research.google.com/assets/colab-badge.svg\" alt=\"Open In Colab\"/></a>"
      ]
    },
    {
      "metadata": {
        "id": "G3SiNnHMZTLB",
        "colab_type": "text"
      },
      "cell_type": "markdown",
      "source": [
        "\n",
        "This program uses data from the 2014-2018 NBA seasons to classify players by \n",
        "position.\n",
        "\n",
        "\n",
        "Previous year's game statistics are used to generate a likelihood function\n",
        "for each position. Then a certain player can be tested against each of these \n",
        "functions to guess their position.\n"
      ]
    },
    {
      "metadata": {
        "id": "DiZoa_hUOrT0",
        "colab_type": "code",
        "colab": {}
      },
      "cell_type": "code",
      "source": [
        "import matplotlib.pyplot as plt\n",
        "import numpy as np\n",
        "import scipy.stats as stat\n",
        "import math\n",
        "import pandas as pd\n",
        "from enum import Enum\n",
        "from mpl_toolkits import mplot3d\n",
        "from itertools import combinations\n",
        "\n",
        "\n",
        "\n"
      ],
      "execution_count": 0,
      "outputs": []
    },
    {
      "metadata": {
        "id": "51h41PKoHmzw",
        "colab_type": "code",
        "colab": {}
      },
      "cell_type": "code",
      "source": [
        "\n",
        "# Defines an enumeration for player positions\n",
        "\n",
        "class Position(Enum):\n",
        "  PG = 0\n",
        "  SG = 1\n",
        "  SF = 2\n",
        "  PF = 3\n",
        "  C = 4\n",
        "  "
      ],
      "execution_count": 0,
      "outputs": []
    },
    {
      "metadata": {
        "id": "abRojhXGTPi8",
        "colab_type": "code",
        "colab": {}
      },
      "cell_type": "code",
      "source": [
        ""
      ],
      "execution_count": 0,
      "outputs": []
    },
    {
      "metadata": {
        "id": "VUXyVnzNANst",
        "colab_type": "code",
        "colab": {}
      },
      "cell_type": "code",
      "source": [
        "# fig = plt.figure()\n",
        "# ax = plt.axes(projection='3d')\n",
        "\n",
        "# ax.scatter3D(data[Position.PG]['3PA'],data[Position.PG]['2P%'],data[Position.PG]['BLK'])\n",
        "# # your ellispsoid and center in matrix form\n",
        "# A = covs[Position.PG]\n",
        "# center = avgs[Position.PG]\n",
        "\n",
        "# # find the rotation matrix and radii of the axes\n",
        "# U, s, rotation = np.linalg.svd(A)\n",
        "# radii = 1.0/np.sqrt(s)\n",
        "\n",
        "# # now carry on with EOL's answer\n",
        "# u = np.linspace(0.0, 2.0 * np.pi, 100)\n",
        "# v = np.linspace(0.0, np.pi, 100)\n",
        "# x = radii[0] * np.outer(np.cos(u), np.sin(v))\n",
        "# y = radii[1] * np.outer(np.sin(u), np.sin(v))\n",
        "# z = radii[2] * np.outer(np.ones_like(u), np.cos(v))\n",
        "# for i in range(len(x)):\n",
        "#     for j in range(len(x)):\n",
        "#         [x[i,j],y[i,j],z[i,j]] = np.dot([x[i,j],y[i,j],z[i,j]], rotation) + center\n",
        "\n",
        "\n",
        "\n",
        "# ax.plot_wireframe(x, y, z,  rstride=4, cstride=4, color='b', alpha=0.2)\n",
        "# plt.show()\n",
        "# plt.close(fig)\n",
        "# del fig\n",
        "\n"
      ],
      "execution_count": 0,
      "outputs": []
    },
    {
      "metadata": {
        "id": "Dk8qTLauO201",
        "colab_type": "code",
        "cellView": "code",
        "colab": {}
      },
      "cell_type": "code",
      "source": [
        "\"\"\"\n",
        "  Evaluates a player against a position's likelihood.\n",
        "  params: positon = Position Enum\n",
        "          player = numpy array of stats\n",
        "\n",
        "\"\"\"\n",
        "def evaluate_likelihood(position, player):\n",
        "  mu = avgs[position]\n",
        "  sig = covs[position]\n",
        "  \n",
        "  p = (math.sqrt(2*math.pi)) ** 3\n",
        "  c = 1 / (p * math.sqrt(np.linalg.det(sig)))\n",
        "  \n",
        "  # print(sig.shape, mu.shape, player.shape)\n",
        "   \n",
        "  t = np.dot(np.transpose(player-mu), np.dot(sig, (player-mu)))\n",
        "  \n",
        "  \n",
        "  return c * math.exp(-0.5 * t)"
      ],
      "execution_count": 0,
      "outputs": []
    },
    {
      "metadata": {
        "id": "AR8WjRv8MES6",
        "colab_type": "code",
        "colab": {}
      },
      "cell_type": "code",
      "source": [
        "def guess_position(player):\n",
        "  positions = {}\n",
        "  positions[Position.PG] = evaluate_likelihood(Position.PG, player) * prior[Position.PG]\n",
        "  positions[Position.SG] = evaluate_likelihood(Position.SG, player) * prior[Position.SG]\n",
        "  positions[Position.SF] = evaluate_likelihood(Position.SF, player) * prior[Position.SF]\n",
        "  positions[Position.PF] = evaluate_likelihood(Position.PF, player) * prior[Position.PF]\n",
        "  positions[Position.C] = evaluate_likelihood(Position.C, player) * prior[Position.C]\n",
        "  # print(positions)\n",
        "  v = list(positions.values())\n",
        "  k = list(positions.keys())\n",
        "  \n",
        "  return k[v.index(max(v))]"
      ],
      "execution_count": 0,
      "outputs": []
    },
    {
      "metadata": {
        "id": "d0G_q--v1du9",
        "colab_type": "code",
        "colab": {}
      },
      "cell_type": "code",
      "source": [
        "def compare_position(actual, guessed):\n",
        "\n",
        "  pos_names = {\n",
        "      Position.PG : \"PG\",\n",
        "      Position.SG : \"SG\",\n",
        "      Position.SF : \"SF\",\n",
        "      Position.PF : \"PF\",\n",
        "      Position.C : \"C\",\n",
        "  }\n",
        "\n",
        "# Guard, Forward, Center\n",
        "\n",
        "#   if guessed == Position.PG or guessed == Position.SG:\n",
        "#     if actual == \"PG\" or actual == \"SG\":\n",
        "#       return 1\n",
        "#   if guessed == Position.SF or guessed == Position.PF:\n",
        "#     if actual == \"SF\" or actual == \"PF\":\n",
        "#       return 1\n",
        "#   if guessed == Position.C:\n",
        "#     if actual == \"C\":\n",
        "#       return 1\n",
        "#   return 0\n",
        "\n",
        "# PG, SG, SF, PF, C\n",
        "  if pos_names[guessed] == actual:\n",
        "    # print(\"Position %s Guessed Correctly\" % actual)\n",
        "    return 1\n",
        "  else:\n",
        "    # print(\"Position Guessed Incorrectly- Actual: %s     Guessed: %s\" %(actual, pos_names[guessed]))\n",
        "    return 0\n",
        "      \n"
      ],
      "execution_count": 0,
      "outputs": []
    },
    {
      "metadata": {
        "id": "VncRTV95RtMJ",
        "colab_type": "code",
        "outputId": "eed39a77-bccf-4b82-ae7a-6ce52cbf8201",
        "colab": {
          "base_uri": "https://localhost:8080/",
          "height": 34
        }
      },
      "cell_type": "code",
      "source": [
        "# Load Data\n",
        "pg_url = 'https://raw.githubusercontent.com/ssaltwick/ENEE324-Project/master/data/Data%20-%20PG-clean.csv'\n",
        "sg_url = 'https://raw.githubusercontent.com/ssaltwick/ENEE324-Project/master/data/Data%20-%20SG-clean.csv'\n",
        "sf_url = 'https://raw.githubusercontent.com/ssaltwick/ENEE324-Project/master/data/Data%20-%20SF-clean.csv'\n",
        "pf_url = 'https://raw.githubusercontent.com/ssaltwick/ENEE324-Project/master/data/Data%20-%20PF-clean.csv'\n",
        "c_url = 'https://raw.githubusercontent.com/ssaltwick/ENEE324-Project/master/data/Data%20-%20C-Clean.csv'\n",
        "test_url = 'https://raw.githubusercontent.com/ssaltwick/ENEE324-Project/master/data/Data%20-%20Test-Clean.csv'\n",
        "\n",
        "test_data = pd.read_csv(test_url).dropna()\n",
        "#2p%, 3pa, ft%\n",
        "# All stats\n",
        "all_stats = ['3PA', '3P%','2P%', 'PTS', 'AST', 'FT%', 'STL', 'BLK', 'ORB','TRB']\n",
        "\n",
        "# Selected Stats (Best so far)\n",
        "#stats = ['3PA', '3P%', '2P%',  'BLK']\n",
        "\n",
        "combos = list(combinations(all_stats,3))\n",
        "\n",
        "results = {}\n",
        "for stats in combos:\n",
        "  stats = list(stats)\n",
        "  data = {\n",
        "      Position.PG : pd.read_csv(pg_url).dropna()[stats],\n",
        "      Position.SG : pd.read_csv(sg_url).dropna()[stats],\n",
        "      Position.SF : pd.read_csv(sf_url).dropna()[stats],\n",
        "      Position.PF : pd.read_csv(pf_url).dropna()[stats],\n",
        "      Position.C : pd.read_csv(c_url)[stats]\n",
        "  }\n",
        "\n",
        "  total_players = data[Position.PG].shape[0] + data[Position.SG].shape[0] + \\\n",
        "    data[Position.SF].shape[0] + data[Position.PF].shape[0] + data[Position.C].shape[0]\n",
        "\n",
        "\n",
        "  # Defines an array of priors (each position's percentage of players)\n",
        "  # TODO: Update with actual priors),\n",
        "  prior = {\n",
        "      Position.PG : data[Position.PG].shape[0] / total_players,\n",
        "      Position.SG : data[Position.SG].shape[0] / total_players,\n",
        "      Position.SF : data[Position.SF].shape[0] / total_players,\n",
        "      Position.PF : data[Position.PF].shape[0] / total_players,\n",
        "      Position.C : data[Position.C].shape[0] / total_players\n",
        "  }\n",
        "\n",
        "\n",
        "\n",
        "\n",
        "  # TODO: Generate actual MEAN and COV for each position\n",
        "\n",
        "  avgs = {\n",
        "      Position.PG : data[Position.PG].mean(0).to_numpy(),\n",
        "      Position.SG : data[Position.SG].mean(0).to_numpy(),\n",
        "      Position.SF : data[Position.SF].mean(0).to_numpy(),\n",
        "      Position.PF : data[Position.PF].mean(0).to_numpy(),\n",
        "      Position.C : data[Position.C].mean(0).to_numpy()\n",
        "  }\n",
        "\n",
        "  covs = {\n",
        "      Position.PG : data[Position.PG].cov().to_numpy(),\n",
        "      Position.SG : data[Position.SG].cov().to_numpy(),\n",
        "      Position.SF : data[Position.SF].cov().to_numpy(),\n",
        "      Position.PF : data[Position.PF].cov().to_numpy(),\n",
        "      Position.C : data[Position.C].cov().to_numpy()\n",
        "  }\n",
        "\n",
        "  # Display stat with minimum variance \n",
        "  # print(np.argmin(np.diag(covs[Position.PG])))\n",
        "  # print(np.argmin(np.diag(covs[Position.SG])))\n",
        "  # print(np.argmin(np.diag(covs[Position.SF])))\n",
        "  # print(np.argmin(np.diag(covs[Position.PF])))\n",
        "  # print(np.argmin(np.diag(covs[Position.C])))\n",
        "\n",
        "\n",
        "\n",
        "\n",
        "\n",
        "\n",
        "  test_frame = test_data[['Pos'] + stats]\n",
        "\n",
        "  sample_size = test_frame.shape[0]\n",
        "  num_correct = 0.0\n",
        "\n",
        "\n",
        "  for i in range(0,sample_size):\n",
        "\n",
        "    test_player = test_frame.to_numpy()[i,0:]\n",
        "\n",
        "    guess = guess_position(test_player[1:])\n",
        "\n",
        "    num_correct += compare_position(test_player[0], guess)\n",
        "\n",
        "  percent_correct = (num_correct / sample_size)\n",
        "  \n",
        "  \n",
        "  results[''.join(stats)] = percent_correct\n",
        "  \n",
        "  #print(''.join(stats))\n",
        "  #print('Guessed {:.2%}  of players correct'.format(percent_correct))\n",
        "\n",
        " \n",
        "\n",
        "v = list(results.values())\n",
        "k = list(results.keys())\n",
        "\n",
        "best = k[v.index(max(v))]  \n",
        "print(\"Best result using %s with %s accuracy\" % (best, max(v)))"
      ],
      "execution_count": 0,
      "outputs": [
        {
          "output_type": "stream",
          "text": [
            "Best result using 3PABLKORB with 0.398876404494382 accuracy\n"
          ],
          "name": "stdout"
        }
      ]
    }
  ]
}